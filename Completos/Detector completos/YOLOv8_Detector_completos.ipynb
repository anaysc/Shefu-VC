{
 "cells": [
  {
   "cell_type": "code",
   "execution_count": 1,
   "id": "6b87d9cd",
   "metadata": {},
   "outputs": [
    {
     "name": "stdout",
     "output_type": "stream",
     "text": [
      "True\n",
      "NVIDIA GeForce RTX 2050\n"
     ]
    }
   ],
   "source": [
    "import torch\n",
    "print(torch.cuda.is_available())\n",
    "print(torch.cuda.get_device_name(0))\n"
   ]
  },
  {
   "cell_type": "code",
   "execution_count": 2,
   "id": "45b072ff",
   "metadata": {},
   "outputs": [
    {
     "name": "stdout",
     "output_type": "stream",
     "text": [
      "env: -u=LD_LIBRARY_PATH\n",
      "env: -u=CUDA_VISIBLE_DEVICES\n",
      "Python: c:\\Users\\anays\\OneDrive\\Escritorio\\shefu_vc\\shefu\\yolov8\\Scripts\\python.exe\n",
      "Torch: 2.6.0+cu124 built CUDA: 12.4\n",
      "CUDA disponible: True GPUs: 1\n",
      "NVIDIA GeForce RTX 2050\n"
     ]
    }
   ],
   "source": [
    "%env -u LD_LIBRARY_PATH\n",
    "%env -u CUDA_VISIBLE_DEVICES\n",
    "\n",
    "import sys, os, torch\n",
    "print(\"Python:\", sys.executable)  \n",
    "print(\"Torch:\", torch.__version__, \"built CUDA:\", torch.version.cuda)\n",
    "print(\"CUDA disponible:\", torch.cuda.is_available(), \"GPUs:\", torch.cuda.device_count())\n",
    "if torch.cuda.is_available():\n",
    "    print(torch.cuda.get_device_name(0))\n"
   ]
  },
  {
   "cell_type": "code",
   "execution_count": 3,
   "id": "685ca8d3",
   "metadata": {},
   "outputs": [
    {
     "name": "stdout",
     "output_type": "stream",
     "text": [
      "Python: c:\\Users\\anays\\OneDrive\\Escritorio\\shefu_vc\\shefu\\yolov8\\Scripts\\python.exe\n",
      "LD_LIBRARY_PATH: None\n",
      "CUDA_VISIBLE_DEVICES: None\n",
      "\n",
      "Torch build: 2.6.0+cu124 built CUDA: 12.4\n",
      "cuDNN version (torch): 90100\n",
      "libcuda.so: ERROR -> Could not find module 'libcuda.so' (or one of its dependencies). Try using the full path with constructor syntax.\n",
      "GPU: NVIDIA GeForce RTX 2050\n",
      "device_count: 1\n"
     ]
    }
   ],
   "source": [
    "import os, ctypes, torch, sys\n",
    "print(\"Python:\", sys.executable)\n",
    "print(\"LD_LIBRARY_PATH:\", os.environ.get(\"LD_LIBRARY_PATH\"))\n",
    "print(\"CUDA_VISIBLE_DEVICES:\", os.environ.get(\"CUDA_VISIBLE_DEVICES\"))\n",
    "\n",
    "print(\"\\nTorch build:\", torch.__version__, \"built CUDA:\", torch.version.cuda)\n",
    "print(\"cuDNN version (torch):\", torch.backends.cudnn.version())\n",
    "\n",
    "# ¿Se puede cargar el driver?\n",
    "try:\n",
    "    ctypes.CDLL(\"libcuda.so\")\n",
    "    print(\"libcuda.so: OK (cargó)\")\n",
    "except OSError as e:\n",
    "    print(\"libcuda.so: ERROR ->\", e)\n",
    "\n",
    "# Forzar inicialización para ver el error real\n",
    "try:\n",
    "    torch.cuda.init()\n",
    "    print(\"GPU:\", torch.cuda.get_device_name(0))\n",
    "    print(\"device_count:\", torch.cuda.device_count())\n",
    "except Exception as e:\n",
    "    print(\"Error al inicializar CUDA:\", repr(e))\n"
   ]
  },
  {
   "cell_type": "code",
   "execution_count": 4,
   "id": "5ffabf70",
   "metadata": {},
   "outputs": [
    {
     "name": "stdout",
     "output_type": "stream",
     "text": [
      "Compilado con CUDA: 12.4\n",
      "cuDNN version: 90100\n",
      "torch.cuda.is_available(): True\n",
      "Número de GPUs detectadas: 1\n",
      "GPU detectada: NVIDIA GeForce RTX 2050\n"
     ]
    }
   ],
   "source": [
    "import torch\n",
    "print(\"Compilado con CUDA:\", torch.version.cuda)\n",
    "print(\"cuDNN version:\", torch.backends.cudnn.version())\n",
    "print(\"torch.cuda.is_available():\", torch.cuda.is_available())\n",
    "print(\"Número de GPUs detectadas:\", torch.cuda.device_count())\n",
    "\n",
    "import torch\n",
    "try:\n",
    "    torch.cuda.init()\n",
    "    print(\"GPU detectada:\", torch.cuda.get_device_name(0))\n",
    "except Exception as e:\n",
    "    print(\"Error CUDA:\", e)\n"
   ]
  },
  {
   "cell_type": "code",
   "execution_count": 5,
   "id": "0a7dcae7",
   "metadata": {},
   "outputs": [
    {
     "name": "stdout",
     "output_type": "stream",
     "text": [
      "12.4\n",
      "True\n",
      "NVIDIA GeForce RTX 2050\n"
     ]
    }
   ],
   "source": [
    "import torch\n",
    "print(torch.version.cuda)\n",
    "print(torch.cuda.is_available())\n",
    "if torch.cuda.is_available():\n",
    "    print(torch.cuda.get_device_name(0))\n"
   ]
  },
  {
   "cell_type": "code",
   "execution_count": 6,
   "id": "be8ce44a",
   "metadata": {},
   "outputs": [
    {
     "name": "stdout",
     "output_type": "stream",
     "text": [
      "Requirement already satisfied: ultralytics in c:\\users\\anays\\onedrive\\escritorio\\shefu_vc\\shefu\\yolov8\\lib\\site-packages (8.3.204)\n",
      "Requirement already satisfied: numpy>=1.23.0 in c:\\users\\anays\\onedrive\\escritorio\\shefu_vc\\shefu\\yolov8\\lib\\site-packages (from ultralytics) (2.1.2)\n",
      "Requirement already satisfied: matplotlib>=3.3.0 in c:\\users\\anays\\onedrive\\escritorio\\shefu_vc\\shefu\\yolov8\\lib\\site-packages (from ultralytics) (3.10.6)\n",
      "Requirement already satisfied: opencv-python>=4.6.0 in c:\\users\\anays\\onedrive\\escritorio\\shefu_vc\\shefu\\yolov8\\lib\\site-packages (from ultralytics) (4.12.0.88)\n",
      "Requirement already satisfied: pillow>=7.1.2 in c:\\users\\anays\\onedrive\\escritorio\\shefu_vc\\shefu\\yolov8\\lib\\site-packages (from ultralytics) (11.0.0)\n",
      "Requirement already satisfied: pyyaml>=5.3.1 in c:\\users\\anays\\onedrive\\escritorio\\shefu_vc\\shefu\\yolov8\\lib\\site-packages (from ultralytics) (6.0.3)\n",
      "Requirement already satisfied: requests>=2.23.0 in c:\\users\\anays\\onedrive\\escritorio\\shefu_vc\\shefu\\yolov8\\lib\\site-packages (from ultralytics) (2.32.5)\n",
      "Requirement already satisfied: scipy>=1.4.1 in c:\\users\\anays\\onedrive\\escritorio\\shefu_vc\\shefu\\yolov8\\lib\\site-packages (from ultralytics) (1.15.3)\n",
      "Requirement already satisfied: torch>=1.8.0 in c:\\users\\anays\\onedrive\\escritorio\\shefu_vc\\shefu\\yolov8\\lib\\site-packages (from ultralytics) (2.6.0+cu124)\n",
      "Requirement already satisfied: torchvision>=0.9.0 in c:\\users\\anays\\onedrive\\escritorio\\shefu_vc\\shefu\\yolov8\\lib\\site-packages (from ultralytics) (0.21.0+cu124)\n",
      "Requirement already satisfied: psutil in c:\\users\\anays\\onedrive\\escritorio\\shefu_vc\\shefu\\yolov8\\lib\\site-packages (from ultralytics) (7.1.0)\n",
      "Requirement already satisfied: polars in c:\\users\\anays\\onedrive\\escritorio\\shefu_vc\\shefu\\yolov8\\lib\\site-packages (from ultralytics) (1.33.1)\n",
      "Requirement already satisfied: ultralytics-thop>=2.0.0 in c:\\users\\anays\\onedrive\\escritorio\\shefu_vc\\shefu\\yolov8\\lib\\site-packages (from ultralytics) (2.0.17)\n",
      "Requirement already satisfied: contourpy>=1.0.1 in c:\\users\\anays\\onedrive\\escritorio\\shefu_vc\\shefu\\yolov8\\lib\\site-packages (from matplotlib>=3.3.0->ultralytics) (1.3.2)\n",
      "Requirement already satisfied: cycler>=0.10 in c:\\users\\anays\\onedrive\\escritorio\\shefu_vc\\shefu\\yolov8\\lib\\site-packages (from matplotlib>=3.3.0->ultralytics) (0.12.1)\n",
      "Requirement already satisfied: fonttools>=4.22.0 in c:\\users\\anays\\onedrive\\escritorio\\shefu_vc\\shefu\\yolov8\\lib\\site-packages (from matplotlib>=3.3.0->ultralytics) (4.60.1)\n",
      "Requirement already satisfied: kiwisolver>=1.3.1 in c:\\users\\anays\\onedrive\\escritorio\\shefu_vc\\shefu\\yolov8\\lib\\site-packages (from matplotlib>=3.3.0->ultralytics) (1.4.9)\n",
      "Requirement already satisfied: packaging>=20.0 in c:\\users\\anays\\onedrive\\escritorio\\shefu_vc\\shefu\\yolov8\\lib\\site-packages (from matplotlib>=3.3.0->ultralytics) (25.0)\n",
      "Requirement already satisfied: pyparsing>=2.3.1 in c:\\users\\anays\\onedrive\\escritorio\\shefu_vc\\shefu\\yolov8\\lib\\site-packages (from matplotlib>=3.3.0->ultralytics) (3.2.5)\n",
      "Requirement already satisfied: python-dateutil>=2.7 in c:\\users\\anays\\onedrive\\escritorio\\shefu_vc\\shefu\\yolov8\\lib\\site-packages (from matplotlib>=3.3.0->ultralytics) (2.9.0.post0)\n",
      "Requirement already satisfied: six>=1.5 in c:\\users\\anays\\onedrive\\escritorio\\shefu_vc\\shefu\\yolov8\\lib\\site-packages (from python-dateutil>=2.7->matplotlib>=3.3.0->ultralytics) (1.17.0)\n",
      "Requirement already satisfied: charset_normalizer<4,>=2 in c:\\users\\anays\\onedrive\\escritorio\\shefu_vc\\shefu\\yolov8\\lib\\site-packages (from requests>=2.23.0->ultralytics) (3.4.3)\n",
      "Requirement already satisfied: idna<4,>=2.5 in c:\\users\\anays\\onedrive\\escritorio\\shefu_vc\\shefu\\yolov8\\lib\\site-packages (from requests>=2.23.0->ultralytics) (3.10)\n",
      "Requirement already satisfied: urllib3<3,>=1.21.1 in c:\\users\\anays\\onedrive\\escritorio\\shefu_vc\\shefu\\yolov8\\lib\\site-packages (from requests>=2.23.0->ultralytics) (2.5.0)\n",
      "Requirement already satisfied: certifi>=2017.4.17 in c:\\users\\anays\\onedrive\\escritorio\\shefu_vc\\shefu\\yolov8\\lib\\site-packages (from requests>=2.23.0->ultralytics) (2025.8.3)\n",
      "Requirement already satisfied: filelock in c:\\users\\anays\\onedrive\\escritorio\\shefu_vc\\shefu\\yolov8\\lib\\site-packages (from torch>=1.8.0->ultralytics) (3.13.1)\n",
      "Requirement already satisfied: typing-extensions>=4.10.0 in c:\\users\\anays\\onedrive\\escritorio\\shefu_vc\\shefu\\yolov8\\lib\\site-packages (from torch>=1.8.0->ultralytics) (4.12.2)\n",
      "Requirement already satisfied: networkx in c:\\users\\anays\\onedrive\\escritorio\\shefu_vc\\shefu\\yolov8\\lib\\site-packages (from torch>=1.8.0->ultralytics) (3.3)\n",
      "Requirement already satisfied: jinja2 in c:\\users\\anays\\onedrive\\escritorio\\shefu_vc\\shefu\\yolov8\\lib\\site-packages (from torch>=1.8.0->ultralytics) (3.1.4)\n",
      "Requirement already satisfied: fsspec in c:\\users\\anays\\onedrive\\escritorio\\shefu_vc\\shefu\\yolov8\\lib\\site-packages (from torch>=1.8.0->ultralytics) (2024.6.1)\n",
      "Requirement already satisfied: sympy==1.13.1 in c:\\users\\anays\\onedrive\\escritorio\\shefu_vc\\shefu\\yolov8\\lib\\site-packages (from torch>=1.8.0->ultralytics) (1.13.1)\n",
      "Requirement already satisfied: mpmath<1.4,>=1.1.0 in c:\\users\\anays\\onedrive\\escritorio\\shefu_vc\\shefu\\yolov8\\lib\\site-packages (from sympy==1.13.1->torch>=1.8.0->ultralytics) (1.3.0)\n",
      "Requirement already satisfied: MarkupSafe>=2.0 in c:\\users\\anays\\onedrive\\escritorio\\shefu_vc\\shefu\\yolov8\\lib\\site-packages (from jinja2->torch>=1.8.0->ultralytics) (2.1.5)\n",
      "Note: you may need to restart the kernel to use updated packages.\n",
      "Note: you may need to restart the kernel to use updated packages.\n"
     ]
    }
   ],
   "source": [
    "%pip install ultralytics --upgrade\n",
    "%pip -q install ultralytics roboflow opencv-python matplotlib --upgrade\n"
   ]
  },
  {
   "cell_type": "code",
   "execution_count": null,
   "id": "908d41cc",
   "metadata": {},
   "outputs": [],
   "source": [
    "# 1) Instalar dependencias\n",
    "#%pip -q install ultralytics roboflow opencv-python matplotlib --upgrade\n",
    "from ultralytics import YOLO\n",
    "print('ultralytics import ok')\n",
    "import os\n",
    "from roboflow import Roboflow"
   ]
  },
  {
   "cell_type": "code",
   "execution_count": null,
   "id": "c263dd10",
   "metadata": {},
   "outputs": [],
   "source": [
    "API_KEY = \"rfURipMTLdMTRCxLbwVz\"\n",
    "WORKSPACE = \"anays\"\n",
    "PROJECT = \"dataset-comida-chilena-8wtna\"   # es solo completos\n",
    "VERSION = 1\n",
    "\n",
    "# 2) Descargar dataset desde Roboflow en formato YOLOv8 (no tensorflow)\n",
    "# Nota: no usar tildes en comentarios\n",
    "\n",
    "rf = Roboflow(api_key=API_KEY)\n",
    "project = rf.workspace(WORKSPACE).project(PROJECT)\n",
    "version = project.version(VERSION)\n",
    "\n",
    "# Descargar en formato YOLOv8 (no tensorflow)\n",
    "dataset = version.download(\"yolov8\")\n",
    "DATA_DIR = dataset.location  # carpeta con data.yaml\n",
    "print('DATA_DIR =', DATA_DIR)\n",
    "DATA_YAML = os.path.join(DATA_DIR, 'data.yaml')\n",
    "print('DATA_YAML =', DATA_YAML)\n"
   ]
  },
  {
   "cell_type": "code",
   "execution_count": null,
   "id": "a333475f",
   "metadata": {},
   "outputs": [],
   "source": [
    "import torch\n",
    "\n",
    "print(\"=== Versión de PyTorch ===\")\n",
    "print(torch.__version__)\n",
    "\n",
    "print(\"\\n=== Info de CUDA/cuDNN que espera PyTorch ===\")\n",
    "print(\"Compilado con CUDA:\", torch.version.cuda)\n",
    "print(\"Versión cuDNN esperada:\", torch.backends.cudnn.version())\n",
    "\n",
    "print(\"\\n=== GPU detectada por PyTorch ===\")\n",
    "print(\"torch.cuda.is_available():\", torch.cuda.is_available())\n",
    "if torch.cuda.is_available():\n",
    "    print(\"GPU:\", torch.cuda.get_device_name(0))\n",
    "    print(\"Capacidad de cómputo:\", torch.cuda.get_device_capability(0))\n"
   ]
  },
  {
   "cell_type": "code",
   "execution_count": null,
   "id": "34ebc9e7",
   "metadata": {},
   "outputs": [],
   "source": [
    "import subprocess\n",
    "import torch\n",
    "\n",
    "# Info desde PyTorch\n",
    "if torch.cuda.is_available():\n",
    "    print(\"=== Info CUDA desde PyTorch ===\")\n",
    "    print(\"GPU:\", torch.cuda.get_device_name(0))\n",
    "    print(\"VRAM total (GB):\", round(torch.cuda.get_device_properties(0).total_memory / 1024**3, 1))\n",
    "else:\n",
    "    print(\"No se detecta GPU CUDA con PyTorch\")\n",
    "\n",
    "# Info extendida desde nvidia-smi\n",
    "try:\n",
    "    print(\"\\n=== Info extendida desde NVIDIA-SMI ===\")\n",
    "    smi_output = subprocess.check_output([\"nvidia-smi\"], encoding=\"utf-8\")\n",
    "    print(smi_output)\n",
    "except FileNotFoundError:\n",
    "    print(\"nvidia-smi no encontrado. Asegurate de tener instalado el driver NVIDIA.\")\n"
   ]
  },
  {
   "cell_type": "code",
   "execution_count": null,
   "id": "431d73e6",
   "metadata": {},
   "outputs": [],
   "source": [
    "results = model.train(\n",
    "    data=DATA_YAML,\n",
    "    imgsz=320,\n",
    "    epochs=100,\n",
    "    batch=8,\n",
    "    device=0 if torch.cuda.is_available() else 'cpu',\n",
    "    project='runs_detector1',\n",
    "    name='rf_completos2',\n",
    "    close_mosaic=10,\n",
    "    patience=20,\n",
    "    plots=False   \n",
    ")\n",
    "\n"
   ]
  },
  {
   "cell_type": "code",
   "execution_count": null,
   "id": "caca3caa",
   "metadata": {},
   "outputs": [],
   "source": [
    "from ultralytics import YOLO\n",
    "best_pt = 'runs_detector1/rf_completos22/weights/best.pt'\n",
    "model = YOLO(best_pt)\n",
    "metrics = model.val(data=DATA_YAML, imgsz=320)\n",
    "print(metrics)\n",
    "\n",
    "# Export a TFLite\n",
    "model.export(format='tflite', imgsz=320)            # tflite float32\n",
    "# model.export(format='tflite', imgsz=320, half=True)  # tflite float16\n",
    "# model.export(format='tflite', imgsz=320, int8=True, data=DATA_YAML)  # int8 con calibracion\n",
    "\n"
   ]
  },
  {
   "cell_type": "code",
   "execution_count": null,
   "id": "e99fe229",
   "metadata": {},
   "outputs": [],
   "source": [
    "best_pt = 'runs_detector1/rf_completos22/weights/best.pt'\n",
    "model = YOLO(best_pt)\n",
    "\n",
    "test_img = 'completos.png'  # ruta a una imagen de prueba\n",
    "if test_img and os.path.exists(test_img):\n",
    "    model = YOLO(best_pt)\n",
    "    preds = model.predict(source=test_img, imgsz=320, conf=0.25, save=True, project='runs_detector1', name='rf_pred_demo')\n",
    "    print(preds)\n",
    "else:\n",
    "    print('Define test_img para probar una prediccion')"
   ]
  },
  {
   "cell_type": "code",
   "execution_count": null,
   "id": "2c51181c",
   "metadata": {},
   "outputs": [],
   "source": [
    "from ultralytics import YOLO\n",
    "import cv2\n",
    "import matplotlib.pyplot as plt\n",
    "\n",
    "# Parámetros\n",
    "modelo_path = \"runs_detector1/rf_completos22/weights/best.pt\"  # Ruta a tu modelo YOLOv8 entrenado\n",
    "imagen_path = \"completos.png\"  # Ruta a tu imagen de prueba\n",
    "conf_minima = 0.8\n",
    "clase_objetivo = 0  # Cambia según el ID de la clase que quieres detectar\n",
    "\n",
    "# Cargar modelo\n",
    "model = YOLO(modelo_path)\n",
    "\n",
    "# Cargar imagen\n",
    "img = cv2.imread(imagen_path)\n",
    "\n",
    "# Inferencia\n",
    "resultados = model.predict(imagen_path, conf=conf_minima)\n",
    "\n",
    "# Recorrer detecciones\n",
    "for r in resultados:\n",
    "    for box in r.boxes:\n",
    "        if int(box.cls[0]) == clase_objetivo and box.conf[0] >= conf_minima:\n",
    "            x1, y1, x2, y2 = map(int, box.xyxy[0])\n",
    "            recorte = img[y1:y2, x1:x2]\n",
    "\n",
    "            # Guardar recorte\n",
    "            cv2.imwrite(\"recorte.jpg\", recorte)\n",
    "            print(\"Recorte guardado como recorte.jpg\")\n",
    "\n",
    "            # Mostrar recorte en Jupyter/Colab\n",
    "            recorte_rgb = cv2.cvtColor(recorte, cv2.COLOR_BGR2RGB)\n",
    "            plt.imshow(recorte_rgb)\n",
    "            plt.axis(\"off\")\n",
    "            plt.show()\n"
   ]
  },
  {
   "cell_type": "code",
   "execution_count": null,
   "id": "9a33bc52",
   "metadata": {},
   "outputs": [],
   "source": [
    "from ultralytics import YOLO\n",
    "\n",
    "# Cargar tu modelo entrenado\n",
    "model = YOLO(\"runs_detector1/rf_completos22/weights/best.pt\")\n",
    "\n",
    "# Exportar a TFLite\n",
    "model.export(format=\"tflite\")  # genera best.tflite\n"
   ]
  },
  {
   "cell_type": "code",
   "execution_count": null,
   "id": "67a18493",
   "metadata": {},
   "outputs": [],
   "source": [
    "import pandas as pd\n",
    "\n",
    "df = pd.read_csv(\"/home/anays/Desktop/shefu/runs_detector1/rf_completos22/results.csv\")\n",
    "print(df.columns.tolist())\n"
   ]
  },
  {
   "cell_type": "code",
   "execution_count": null,
   "id": "ffb4aabc",
   "metadata": {},
   "outputs": [],
   "source": [
    "import pandas as pd\n",
    "import matplotlib.pyplot as plt\n",
    "\n",
    "# Cargar CSV\n",
    "df = pd.read_csv(\"/home/anays/Desktop/shefu/runs_detector1/rf_completos22/results.csv\")\n",
    "\n",
    "# -------------------\n",
    "# 1) Curvas de pérdidas\n",
    "# -------------------\n",
    "plt.figure(figsize=(10,5))\n",
    "plt.plot(df[\"epoch\"], df[\"train/box_loss\"], label=\"train/box_loss\")\n",
    "plt.plot(df[\"epoch\"], df[\"val/box_loss\"], label=\"val/box_loss\")\n",
    "plt.plot(df[\"epoch\"], df[\"train/cls_loss\"], label=\"train/cls_loss\")\n",
    "plt.plot(df[\"epoch\"], df[\"val/cls_loss\"], label=\"val/cls_loss\")\n",
    "plt.plot(df[\"epoch\"], df[\"train/dfl_loss\"], label=\"train/dfl_loss\")\n",
    "plt.plot(df[\"epoch\"], df[\"val/dfl_loss\"], label=\"val/dfl_loss\")\n",
    "plt.xlabel(\"Época\")\n",
    "plt.ylabel(\"Loss\")\n",
    "plt.title(\"Evolución de pérdidas (Box, CLS, DFL)\")\n",
    "plt.legend()\n",
    "plt.grid()\n",
    "plt.show()\n",
    "\n",
    "# -------------------\n",
    "# 2) Métricas principales (Precision, Recall, mAP)\n",
    "# -------------------\n",
    "plt.figure(figsize=(10,5))\n",
    "plt.plot(df[\"epoch\"], df[\"metrics/precision(B)\"], label=\"Precision\")\n",
    "plt.plot(df[\"epoch\"], df[\"metrics/recall(B)\"], label=\"Recall\")\n",
    "plt.plot(df[\"epoch\"], df[\"metrics/mAP50(B)\"], label=\"mAP50\")\n",
    "plt.plot(df[\"epoch\"], df[\"metrics/mAP50-95(B)\"], label=\"mAP50-95\")\n",
    "plt.xlabel(\"Época\")\n",
    "plt.ylabel(\"Valor\")\n",
    "plt.title(\"Métricas de validación\")\n",
    "plt.legend()\n",
    "plt.grid()\n",
    "plt.show()\n",
    "\n",
    "# -------------------\n",
    "# 3) Tasas de aprendizaje\n",
    "# -------------------\n",
    "plt.figure(figsize=(10,5))\n",
    "plt.plot(df[\"epoch\"], df[\"lr/pg0\"], label=\"lr/pg0\")\n",
    "plt.plot(df[\"epoch\"], df[\"lr/pg1\"], label=\"lr/pg1\")\n",
    "plt.plot(df[\"epoch\"], df[\"lr/pg2\"], label=\"lr/pg2\")\n",
    "plt.xlabel(\"Época\")\n",
    "plt.ylabel(\"Learning Rate\")\n",
    "plt.title(\"Evolución de tasas de aprendizaje\")\n",
    "plt.legend()\n",
    "plt.grid()\n",
    "plt.show()\n"
   ]
  },
  {
   "cell_type": "code",
   "execution_count": null,
   "id": "bcd2fba1",
   "metadata": {},
   "outputs": [],
   "source": [
    "from ultralytics import YOLO\n",
    "\n",
    "model = YOLO(\"/home/anays/Desktop/shefu/runs_detector1/rf_completos22/weights/best.pt\")\n",
    "metrics = model.val(\n",
    "    data=\"/home/anays/Desktop/shefu/Dataset-Comida-Chilena-1/data.yaml\",  # el mismo YAML que usaste para entrenar\n",
    "    imgsz=640,\n",
    "    conf=0.25\n",
    ")\n"
   ]
  }
 ],
 "metadata": {
  "kernelspec": {
   "display_name": "yolov8",
   "language": "python",
   "name": "python3"
  },
  "language_info": {
   "codemirror_mode": {
    "name": "ipython",
    "version": 3
   },
   "file_extension": ".py",
   "mimetype": "text/x-python",
   "name": "python",
   "nbconvert_exporter": "python",
   "pygments_lexer": "ipython3",
   "version": "3.10.6"
  }
 },
 "nbformat": 4,
 "nbformat_minor": 5
}
